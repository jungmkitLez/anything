{
 "cells": [
  {
   "cell_type": "code",
   "execution_count": 201,
   "id": "1b4ba9bc",
   "metadata": {
    "ExecuteTime": {
     "end_time": "2021-11-30T05:42:55.245606Z",
     "start_time": "2021-11-30T05:42:55.235606Z"
    }
   },
   "outputs": [
    {
     "data": {
      "text/plain": [
       "65"
      ]
     },
     "execution_count": 201,
     "metadata": {},
     "output_type": "execute_result"
    }
   ],
   "source": [
    "ord(\"A\")"
   ]
  },
  {
   "cell_type": "code",
   "execution_count": 202,
   "id": "65eca556",
   "metadata": {
    "ExecuteTime": {
     "end_time": "2021-11-30T05:42:55.261605Z",
     "start_time": "2021-11-30T05:42:55.246606Z"
    }
   },
   "outputs": [
    {
     "data": {
      "text/plain": [
       "'a'"
      ]
     },
     "execution_count": 202,
     "metadata": {},
     "output_type": "execute_result"
    }
   ],
   "source": [
    "a = ['a','b','c','d','e']\n",
    "\n",
    "a.pop(a.index('a'))"
   ]
  },
  {
   "cell_type": "code",
   "execution_count": 203,
   "id": "75d5cbc1",
   "metadata": {
    "ExecuteTime": {
     "end_time": "2021-11-30T05:42:55.277652Z",
     "start_time": "2021-11-30T05:42:55.263608Z"
    }
   },
   "outputs": [
    {
     "data": {
      "text/plain": [
       "['a', 'b', 'c', 'd', 'e']"
      ]
     },
     "execution_count": 203,
     "metadata": {},
     "output_type": "execute_result"
    }
   ],
   "source": [
    "a = ['a','a','b','c','d','e']\n",
    "a.pop(a.index('a'))\n",
    "a"
   ]
  },
  {
   "cell_type": "code",
   "execution_count": 204,
   "id": "219e08f5",
   "metadata": {
    "ExecuteTime": {
     "end_time": "2021-11-30T05:42:55.293640Z",
     "start_time": "2021-11-30T05:42:55.278658Z"
    }
   },
   "outputs": [
    {
     "data": {
      "text/plain": [
       "['b', 'c', 'd', 'e']"
      ]
     },
     "execution_count": 204,
     "metadata": {},
     "output_type": "execute_result"
    }
   ],
   "source": [
    "a.pop(a.index('a'))\n",
    "a"
   ]
  },
  {
   "cell_type": "code",
   "execution_count": 205,
   "id": "0258f530",
   "metadata": {
    "ExecuteTime": {
     "end_time": "2021-11-30T05:42:55.309607Z",
     "start_time": "2021-11-30T05:42:55.295604Z"
    }
   },
   "outputs": [
    {
     "name": "stdout",
     "output_type": "stream",
     "text": [
      "[5, 4, 3, 2, 1]\n"
     ]
    }
   ],
   "source": [
    "b = [1,2,3,4,5]\n",
    "b.sort(reverse=True)\n",
    "print(b)"
   ]
  },
  {
   "cell_type": "code",
   "execution_count": 206,
   "id": "ea15e29c",
   "metadata": {
    "ExecuteTime": {
     "end_time": "2021-11-30T05:42:55.325677Z",
     "start_time": "2021-11-30T05:42:55.311605Z"
    }
   },
   "outputs": [
    {
     "name": "stdout",
     "output_type": "stream",
     "text": [
      "[1, 2, 3, 4, 5]\n"
     ]
    }
   ],
   "source": [
    "b = [1,2,3,4,5]\n",
    "sorted(b,reverse=True)\n",
    "print(b)"
   ]
  },
  {
   "cell_type": "code",
   "execution_count": 207,
   "id": "63ac6bc6",
   "metadata": {
    "ExecuteTime": {
     "end_time": "2021-11-30T05:42:55.340678Z",
     "start_time": "2021-11-30T05:42:55.326607Z"
    }
   },
   "outputs": [
    {
     "data": {
      "text/plain": [
       "[79, 8, 15, 25, 22, 10]"
      ]
     },
     "execution_count": 207,
     "metadata": {},
     "output_type": "execute_result"
    }
   ],
   "source": [
    "b = [15,22,8,79,10,25]\n",
    "sorted(b,reverse=True,key=lambda x : x%10)"
   ]
  },
  {
   "cell_type": "code",
   "execution_count": 208,
   "id": "5def7e79",
   "metadata": {
    "ExecuteTime": {
     "end_time": "2021-11-30T05:42:55.356606Z",
     "start_time": "2021-11-30T05:42:55.342604Z"
    }
   },
   "outputs": [
    {
     "data": {
      "text/plain": [
       "[10, 79, 8, 15, 25, 22]"
      ]
     },
     "execution_count": 208,
     "metadata": {},
     "output_type": "execute_result"
    }
   ],
   "source": [
    "b = [15,22,8,79,10,25]\n",
    "sorted(b,key=lambda x : -x%10)"
   ]
  },
  {
   "cell_type": "code",
   "execution_count": 209,
   "id": "69344f2b",
   "metadata": {
    "ExecuteTime": {
     "end_time": "2021-11-30T05:42:55.371603Z",
     "start_time": "2021-11-30T05:42:55.357622Z"
    }
   },
   "outputs": [
    {
     "data": {
      "text/plain": [
       "[9, 8, 5, 5, 2, 0]"
      ]
     },
     "execution_count": 209,
     "metadata": {},
     "output_type": "execute_result"
    }
   ],
   "source": [
    "b = [15,22,8,79,10,25]\n",
    "sorted(list(map(lambda x : x%10,b)),reverse=True)"
   ]
  },
  {
   "cell_type": "code",
   "execution_count": 210,
   "id": "c8d53e54",
   "metadata": {
    "ExecuteTime": {
     "end_time": "2021-11-30T05:42:55.387604Z",
     "start_time": "2021-11-30T05:42:55.374606Z"
    }
   },
   "outputs": [
    {
     "data": {
      "text/plain": [
       "[10, 79, 8, 15, 25, 22]"
      ]
     },
     "execution_count": 210,
     "metadata": {},
     "output_type": "execute_result"
    }
   ],
   "source": [
    "b = [15,22,8,79,10,25]\n",
    "sorted(b,key=lambda x : (-x%10,x-x%10))"
   ]
  },
  {
   "cell_type": "code",
   "execution_count": 211,
   "id": "9598a858",
   "metadata": {
    "ExecuteTime": {
     "end_time": "2021-11-30T05:42:55.403605Z",
     "start_time": "2021-11-30T05:42:55.389605Z"
    }
   },
   "outputs": [],
   "source": [
    "# 스택 BFS DFS에 쓰임"
   ]
  },
  {
   "cell_type": "code",
   "execution_count": 212,
   "id": "52371b4a",
   "metadata": {
    "ExecuteTime": {
     "end_time": "2021-11-30T05:42:55.419605Z",
     "start_time": "2021-11-30T05:42:55.405605Z"
    }
   },
   "outputs": [],
   "source": [
    "class stack:\n",
    "    \n",
    "    mylist = []\n",
    "    \n",
    "    def __init__(self,mylist):\n",
    "        self.mylist = mylist\n",
    "        \n",
    "    def pop(self):\n",
    "        poper = self.mylist[-1]\n",
    "        self.mylist.pop()\n",
    "        return self.mylist\n",
    "        \n",
    "    def push(self,item):\n",
    "        self.mylist.append(item)\n",
    "        return self.mylist"
   ]
  },
  {
   "cell_type": "code",
   "execution_count": 213,
   "id": "3e27e015",
   "metadata": {
    "ExecuteTime": {
     "end_time": "2021-11-30T05:42:55.435606Z",
     "start_time": "2021-11-30T05:42:55.420604Z"
    }
   },
   "outputs": [],
   "source": [
    "mystack = stack([1,2,3,4,5])"
   ]
  },
  {
   "cell_type": "code",
   "execution_count": 214,
   "id": "22438e79",
   "metadata": {
    "ExecuteTime": {
     "end_time": "2021-11-30T05:42:55.451604Z",
     "start_time": "2021-11-30T05:42:55.436605Z"
    }
   },
   "outputs": [
    {
     "data": {
      "text/plain": [
       "[1, 2, 3, 4]"
      ]
     },
     "execution_count": 214,
     "metadata": {},
     "output_type": "execute_result"
    }
   ],
   "source": [
    "mystack.pop()"
   ]
  },
  {
   "cell_type": "code",
   "execution_count": 215,
   "id": "b588295d",
   "metadata": {
    "ExecuteTime": {
     "end_time": "2021-11-30T05:42:55.467630Z",
     "start_time": "2021-11-30T05:42:55.452605Z"
    }
   },
   "outputs": [
    {
     "data": {
      "text/plain": [
       "[1, 2, 3, 4, 5]"
      ]
     },
     "execution_count": 215,
     "metadata": {},
     "output_type": "execute_result"
    }
   ],
   "source": [
    "mystack.push(5)"
   ]
  },
  {
   "cell_type": "code",
   "execution_count": 216,
   "id": "4c4bf341",
   "metadata": {
    "ExecuteTime": {
     "end_time": "2021-11-30T05:42:55.483623Z",
     "start_time": "2021-11-30T05:42:55.469603Z"
    }
   },
   "outputs": [
    {
     "data": {
      "text/plain": [
       "[1, 2, 3, 4, 5]"
      ]
     },
     "execution_count": 216,
     "metadata": {},
     "output_type": "execute_result"
    }
   ],
   "source": [
    "mystack.mylist"
   ]
  },
  {
   "cell_type": "code",
   "execution_count": 217,
   "id": "eeeec933",
   "metadata": {
    "ExecuteTime": {
     "end_time": "2021-11-30T05:42:55.499621Z",
     "start_time": "2021-11-30T05:42:55.484606Z"
    }
   },
   "outputs": [
    {
     "name": "stdout",
     "output_type": "stream",
     "text": [
      "0 5\n",
      "1 6\n",
      "2 7\n",
      "3 8\n",
      "4 9\n"
     ]
    }
   ],
   "source": [
    "#enumerate\n",
    "\n",
    "for i,j in enumerate(range(5,10)):\n",
    "    print(i,j)"
   ]
  },
  {
   "cell_type": "code",
   "execution_count": 218,
   "id": "75b4bae9",
   "metadata": {
    "ExecuteTime": {
     "end_time": "2021-11-30T05:42:55.515636Z",
     "start_time": "2021-11-30T05:42:55.500607Z"
    }
   },
   "outputs": [
    {
     "data": {
      "text/plain": [
       "[1, 3, 5]"
      ]
     },
     "execution_count": 218,
     "metadata": {},
     "output_type": "execute_result"
    }
   ],
   "source": [
    "[x for x in range(1,6,2)]"
   ]
  },
  {
   "cell_type": "code",
   "execution_count": 219,
   "id": "10ab958e",
   "metadata": {
    "ExecuteTime": {
     "end_time": "2021-11-30T05:42:58.212491Z",
     "start_time": "2021-11-30T05:42:55.516606Z"
    }
   },
   "outputs": [
    {
     "name": "stdout",
     "output_type": "stream",
     "text": [
      "더 할 두 수를 공란으로 입력하세요3 10\n",
      "13\n"
     ]
    }
   ],
   "source": [
    "a,b = map(int,input(\"더 할 두 수를 공란으로 입력하세요\").split(' '))\n",
    "print(a+b)"
   ]
  },
  {
   "cell_type": "code",
   "execution_count": 220,
   "id": "218ae284",
   "metadata": {
    "ExecuteTime": {
     "end_time": "2021-11-30T05:42:58.228490Z",
     "start_time": "2021-11-30T05:42:58.214491Z"
    }
   },
   "outputs": [],
   "source": [
    "def point(*args):\n",
    "    \n",
    "    answer = [1,1]\n",
    "    \n",
    "    for move in args[1]:\n",
    "        if move == 'R' and answer[1]<args[0]:\n",
    "            answer[1] += 1\n",
    "            \n",
    "        elif move == 'L' and answer[1]>1:\n",
    "            answer[1] -= 1\n",
    "            \n",
    "        elif move == 'U' and answer[0]>1:\n",
    "            answer[0] -= 1\n",
    "            \n",
    "        elif move == 'D' and answer[0]<args[0]:\n",
    "            answer[0] += 1\n",
    "            \n",
    "        else:\n",
    "            pass\n",
    "    print(answer[0],answer[1])\n",
    "            \n",
    "    return answer"
   ]
  },
  {
   "cell_type": "code",
   "execution_count": 221,
   "id": "ad9e1fba",
   "metadata": {
    "ExecuteTime": {
     "end_time": "2021-11-30T05:43:14.032395Z",
     "start_time": "2021-11-30T05:42:58.230501Z"
    }
   },
   "outputs": [
    {
     "name": "stdout",
     "output_type": "stream",
     "text": [
      " N 입력5\n",
      " Move list 입력 (공백구분)RLRLUDRL\n",
      "2 1\n"
     ]
    }
   ],
   "source": [
    "b = []\n",
    "for i in range(3):\n",
    "    if i == 0:\n",
    "        b.append(int(input(' N 입력')))\n",
    "    elif i == 1:\n",
    "        b.append(list(map(lambda x : ' '.join(x),input(' Move list 입력 (공백구분)'))))\n",
    "    elif i == 2:\n",
    "        point(*tuple(b))"
   ]
  },
  {
   "cell_type": "code",
   "execution_count": 222,
   "id": "19a3221b",
   "metadata": {
    "ExecuteTime": {
     "end_time": "2021-11-30T05:43:14.047394Z",
     "start_time": "2021-11-30T05:43:14.034395Z"
    }
   },
   "outputs": [
    {
     "name": "stdout",
     "output_type": "stream",
     "text": [
      "3 4\n"
     ]
    }
   ],
   "source": [
    "# 교재 방식\n",
    "\n",
    "# 일단 해보고 검사하는게 시간단축된다\n",
    "\n",
    "# 입력 관련 부분\n",
    "n = 5\n",
    "x, y = 1, 1\n",
    "plans = [\"R\",\"R\",\"R\",\"U\",\"D\",\"D\"]\n",
    "\n",
    "\n",
    "# L/R/U/D의 이동관련 부분 설정\n",
    "dx = [0, 0, -1, 1]\n",
    "dy = [-1, 1, 0, 0]\n",
    "move_types = [\"L\",\"R\",\"U\",\"D\"]\n",
    "\n",
    "# 이동 계획을 하나씩 돌면서 처리!!-> for\n",
    "for plan in plans :\n",
    "    # 이동 후 좌표 구하기\n",
    "    for i in range(len(move_types)):\n",
    "        if plan == move_types[i]:\n",
    "            nx = x + dx[i]\n",
    "            ny = y + dy[i]\n",
    "            \n",
    "    # 공간을 벗어나는 경우\n",
    "    if nx <1 or ny <1 or nx >n or ny > n:\n",
    "        continue\n",
    "        \n",
    "    # 이동 수행\n",
    "    x, y = nx, ny\n",
    "\n",
    "print(x,y)"
   ]
  },
  {
   "cell_type": "code",
   "execution_count": 223,
   "id": "757fcce3",
   "metadata": {
    "ExecuteTime": {
     "end_time": "2021-11-30T05:43:14.063394Z",
     "start_time": "2021-11-30T05:43:14.048393Z"
    }
   },
   "outputs": [
    {
     "name": "stdout",
     "output_type": "stream",
     "text": [
      "3 4\n"
     ]
    },
    {
     "data": {
      "text/plain": [
       "[3, 4]"
      ]
     },
     "execution_count": 223,
     "metadata": {},
     "output_type": "execute_result"
    }
   ],
   "source": [
    "point(*(5,[\"R\",\"R\",\"R\",\"U\",\"D\",\"D\"]))"
   ]
  },
  {
   "cell_type": "code",
   "execution_count": 224,
   "id": "b7025f7a",
   "metadata": {
    "ExecuteTime": {
     "end_time": "2021-11-30T05:43:22.894567Z",
     "start_time": "2021-11-30T05:43:14.065396Z"
    }
   },
   "outputs": [
    {
     "name": "stdout",
     "output_type": "stream",
     "text": [
      "지도의 크기를 입력하세요:5\n",
      "이동할 계획을 입력하세요(L/R/U/D -> 예시 : RRRUDDL):RRRUDDL\n",
      "3 3\n"
     ]
    }
   ],
   "source": [
    "# 가변적인 입력으로\n",
    "#############################################\n",
    "n = int(input(\"지도의 크기를 입력하세요:\"))\n",
    "plans = list( input(\"이동할 계획을 입력하세요(L/R/U/D -> 예시 : RRRUDDL):\"))\n",
    "#############################################\n",
    "\n",
    "x = 1\n",
    "y = 1\n",
    "\n",
    "move = {\"R\":[0,1], \"L\" :[0,-1], \"U\":[-1, 0], \"D\":[1,0]}\n",
    "\n",
    "for m in plans:\n",
    "    dx, dy = move[m]\n",
    "    if x +dx <1 or x + dx > n or y + dy <1 or y + dy > n:\n",
    "        continue\n",
    "    else:\n",
    "        x = x+dx\n",
    "        y = y+dy\n",
    "print(x,y)"
   ]
  },
  {
   "cell_type": "code",
   "execution_count": 225,
   "id": "3653eac1",
   "metadata": {
    "ExecuteTime": {
     "end_time": "2021-11-30T05:43:22.909568Z",
     "start_time": "2021-11-30T05:43:22.895565Z"
    }
   },
   "outputs": [
    {
     "data": {
      "text/plain": [
       "{3, 4}"
      ]
     },
     "execution_count": 225,
     "metadata": {},
     "output_type": "execute_result"
    }
   ],
   "source": [
    "x = [1,2,3,4,5]\n",
    "y = [3,4]\n",
    "\n",
    "set(x).intersection(set(y))"
   ]
  },
  {
   "cell_type": "markdown",
   "id": "2f89faa5",
   "metadata": {
    "ExecuteTime": {
     "end_time": "2021-11-30T04:12:40.595263Z",
     "start_time": "2021-11-30T04:12:40.580265Z"
    }
   },
   "source": [
    "# 나이트의 이동 : L자 형태로만 이동을 할 수 있음(아래 1,2경우) & 정원 밖으로는 나갈 수 없음."
   ]
  },
  {
   "cell_type": "markdown",
   "id": "beb1eae5",
   "metadata": {},
   "source": [
    "- 세팅 익숙하게\n",
    "- ord 사용"
   ]
  },
  {
   "cell_type": "code",
   "execution_count": 226,
   "id": "4d8212b7",
   "metadata": {
    "ExecuteTime": {
     "end_time": "2021-11-30T05:43:22.925565Z",
     "start_time": "2021-11-30T05:43:22.911567Z"
    }
   },
   "outputs": [
    {
     "data": {
      "text/plain": [
       "'A'"
      ]
     },
     "execution_count": 226,
     "metadata": {},
     "output_type": "execute_result"
    }
   ],
   "source": [
    "chr(65)"
   ]
  },
  {
   "cell_type": "code",
   "execution_count": 227,
   "id": "fa3b48ce",
   "metadata": {
    "ExecuteTime": {
     "end_time": "2021-11-30T05:43:22.940565Z",
     "start_time": "2021-11-30T05:43:22.929565Z"
    }
   },
   "outputs": [
    {
     "data": {
      "text/plain": [
       "97"
      ]
     },
     "execution_count": 227,
     "metadata": {},
     "output_type": "execute_result"
    }
   ],
   "source": [
    "ord('a')"
   ]
  },
  {
   "cell_type": "code",
   "execution_count": 228,
   "id": "8e2b3227",
   "metadata": {
    "ExecuteTime": {
     "end_time": "2021-11-30T05:43:22.956564Z",
     "start_time": "2021-11-30T05:43:22.944568Z"
    }
   },
   "outputs": [],
   "source": [
    "def where_sim(my_position):\n",
    "    \n",
    "    x = ord(my_position[0]) - ord('a') + 1\n",
    "    y = int(my_position[1])\n",
    "    \n",
    "    move_a=[2,-2]\n",
    "    move_b=[1,-1]\n",
    "    \n",
    "    counter = 0\n",
    "    \n",
    "    for move_x in move_a:\n",
    "        for move_y in move_b:            \n",
    "            if x+move_x >=1 and x+move_x <=8 and y + move_y >=1 and y + move_y <= 8:\n",
    "                pass\n",
    "                \n",
    "            else:\n",
    "                counter += 1\n",
    "                \n",
    "    for move_x in move_b:\n",
    "        for move_y in move_a:            \n",
    "            if x+move_x >=1 and x+move_x <=8 and y + move_y >=1 and y + move_y <= 8:\n",
    "                pass\n",
    "                \n",
    "            else:\n",
    "                counter += 1\n",
    "                \n",
    "    return counter"
   ]
  },
  {
   "cell_type": "code",
   "execution_count": 229,
   "id": "c30d3fc0",
   "metadata": {
    "ExecuteTime": {
     "end_time": "2021-11-30T05:43:22.972563Z",
     "start_time": "2021-11-30T05:43:22.957566Z"
    }
   },
   "outputs": [
    {
     "data": {
      "text/plain": [
       "6"
      ]
     },
     "execution_count": 229,
     "metadata": {},
     "output_type": "execute_result"
    }
   ],
   "source": [
    "where_sim('a1')"
   ]
  },
  {
   "cell_type": "code",
   "execution_count": 230,
   "id": "2d8566d4",
   "metadata": {
    "ExecuteTime": {
     "end_time": "2021-11-30T05:43:22.988564Z",
     "start_time": "2021-11-30T05:43:22.973565Z"
    }
   },
   "outputs": [],
   "source": [
    "def manhattan_dist(hand,target):\n",
    "    \n",
    "    return abs(hand[0]-target[0]) + abs(hand[1]-target[1])\n",
    "\n",
    "def key_position(number):\n",
    "    keys = [[1,2,3],[4,5,6],[7,8,9],['*',0,'#']]\n",
    "\n",
    "    for i,j in enumerate(keys):\n",
    "        if j.count(number) == 1:\n",
    "            return ((i,j.index(number)))\n",
    "\n",
    "def key_pad(numbers,hand):\n",
    "    \n",
    "    answer = ''\n",
    "    l_pos = key_position('*')\n",
    "    r_pos = key_position('#')\n",
    "    \n",
    "    for number in numbers:\n",
    "        if number in [1,4,7]:\n",
    "            answer += \"L\"\n",
    "            l_pos = key_position(number)\n",
    "            continue\n",
    "        elif number in [3,6,9]:\n",
    "            answer += \"R\"\n",
    "            r_pos = key_position(number)\n",
    "            continue\n",
    "        else:\n",
    "            key_pos = key_position(number)\n",
    "            l_man = manhattan_dist(l_pos,key_pos)\n",
    "            r_man = manhattan_dist(r_pos,key_pos)\n",
    "            \n",
    "            if l_man < r_man:\n",
    "                answer += \"L\"\n",
    "                l_pos = key_pos\n",
    "                \n",
    "            elif l_man > r_man:\n",
    "                answer += \"R\"\n",
    "                r_pos = key_pos\n",
    "                \n",
    "            else:\n",
    "                if hand == 'right':\n",
    "                    answer += \"R\"\n",
    "                    r_pos = key_pos\n",
    "                else:\n",
    "                    answer += \"L\"\n",
    "                    l_pos = key_pos\n",
    "            \n",
    "                    \n",
    "    return answer"
   ]
  },
  {
   "cell_type": "markdown",
   "id": "fdf88ff8",
   "metadata": {},
   "source": [
    "case 1 ) 무조건 왼손\n",
    "\n",
    "case 2 ) 무조건 오른손\n",
    "\n",
    "case 3 ) 가운데\n",
    "\n",
    "    case 3-1 ) 왼손이 가깝냐\n",
    "    \n",
    "    case 3-2 ) 오른손이 가깝냐\n",
    "    \n",
    "    case 3-3 ) 거리가 같고, 어떤손 잡이냐"
   ]
  },
  {
   "cell_type": "code",
   "execution_count": 231,
   "id": "0c79b37f",
   "metadata": {
    "ExecuteTime": {
     "end_time": "2021-11-30T05:43:23.004564Z",
     "start_time": "2021-11-30T05:43:22.990565Z"
    }
   },
   "outputs": [
    {
     "data": {
      "text/plain": [
       "'LRLLLRLLRRL'"
      ]
     },
     "execution_count": 231,
     "metadata": {},
     "output_type": "execute_result"
    }
   ],
   "source": [
    "key_pad([1, 3, 4, 5, 8, 2, 1, 4, 5, 9, 5],\"right\")"
   ]
  },
  {
   "cell_type": "code",
   "execution_count": 232,
   "id": "515772d3",
   "metadata": {
    "ExecuteTime": {
     "end_time": "2021-11-30T05:43:23.020580Z",
     "start_time": "2021-11-30T05:43:23.005566Z"
    }
   },
   "outputs": [
    {
     "data": {
      "text/plain": [
       "'LRLLRRLLLRR'"
      ]
     },
     "execution_count": 232,
     "metadata": {},
     "output_type": "execute_result"
    }
   ],
   "source": [
    "key_pad([7, 0, 8, 2, 8, 3, 1, 5, 7, 6, 2],\"left\")"
   ]
  },
  {
   "cell_type": "code",
   "execution_count": 233,
   "id": "021a4427",
   "metadata": {
    "ExecuteTime": {
     "end_time": "2021-11-30T05:43:23.036581Z",
     "start_time": "2021-11-30T05:43:23.021566Z"
    }
   },
   "outputs": [
    {
     "data": {
      "text/plain": [
       "'LLRLLRLLRL'"
      ]
     },
     "execution_count": 233,
     "metadata": {},
     "output_type": "execute_result"
    }
   ],
   "source": [
    "key_pad([1, 2, 3, 4, 5, 6, 7, 8, 9, 0],\"right\")"
   ]
  },
  {
   "cell_type": "code",
   "execution_count": 234,
   "id": "489f9af9",
   "metadata": {
    "ExecuteTime": {
     "end_time": "2021-11-30T05:43:23.052564Z",
     "start_time": "2021-11-30T05:43:23.038567Z"
    }
   },
   "outputs": [
    {
     "data": {
      "text/plain": [
       "[3, 10]"
      ]
     },
     "execution_count": 234,
     "metadata": {},
     "output_type": "execute_result"
    }
   ],
   "source": [
    "arr = [10,3]\n",
    "\n",
    "arr[0],arr[1] = arr[1],arr[0]\n",
    "\n",
    "arr"
   ]
  },
  {
   "cell_type": "markdown",
   "id": "90e086c8",
   "metadata": {},
   "source": [
    "# 정렬"
   ]
  },
  {
   "cell_type": "markdown",
   "id": "87a677a3",
   "metadata": {},
   "source": [
    "## 선택정렬"
   ]
  },
  {
   "cell_type": "code",
   "execution_count": 267,
   "id": "1ee06820",
   "metadata": {
    "ExecuteTime": {
     "end_time": "2021-11-30T06:35:20.954071Z",
     "start_time": "2021-11-30T06:35:20.946992Z"
    }
   },
   "outputs": [
    {
     "data": {
      "text/plain": [
       "[0, 1, 3, 5, 5, 7, 8, 9]"
      ]
     },
     "execution_count": 267,
     "metadata": {},
     "output_type": "execute_result"
    }
   ],
   "source": [
    "A = [3,7,5,5,8,1,9,0]\n",
    "\n",
    "for i in range(len(A)):\n",
    "    min_index = A.index(min(A[i:]),i)\n",
    "    A[i] , A[min_index] = A[min_index], A[i]\n",
    "    \n",
    "A"
   ]
  },
  {
   "cell_type": "markdown",
   "id": "244d2ee1",
   "metadata": {},
   "source": [
    "## 삽입정렬"
   ]
  },
  {
   "cell_type": "code",
   "execution_count": 268,
   "id": "bcb89775",
   "metadata": {
    "ExecuteTime": {
     "end_time": "2021-11-30T06:35:21.442138Z",
     "start_time": "2021-11-30T06:35:21.424818Z"
    }
   },
   "outputs": [
    {
     "data": {
      "text/plain": [
       "[0, 1, 3, 5, 5, 7, 8, 9]"
      ]
     },
     "execution_count": 268,
     "metadata": {},
     "output_type": "execute_result"
    }
   ],
   "source": [
    "A = [3,7,5,5,8,1,9,0]\n",
    "\n",
    "for step in range(1,len(A)):\n",
    "    for i in range(step,0,-1):\n",
    "        if A[i]<A[i-1]:\n",
    "            A[i],A[i-1] = A[i-1],A[i]\n",
    "        else:\n",
    "            break         \n",
    "A"
   ]
  },
  {
   "cell_type": "markdown",
   "id": "70b6c31d",
   "metadata": {},
   "source": [
    "## 버블정렬"
   ]
  },
  {
   "cell_type": "code",
   "execution_count": 288,
   "id": "8c568910",
   "metadata": {
    "ExecuteTime": {
     "end_time": "2021-11-30T06:47:28.552181Z",
     "start_time": "2021-11-30T06:47:28.535177Z"
    }
   },
   "outputs": [
    {
     "data": {
      "text/plain": [
       "[0, 1, 3, 3, 3, 4, 5, 5, 6, 6, 7, 7, 7, 8, 9, 9, 9, 23, 67, 78, 87, 213, 536]"
      ]
     },
     "execution_count": 288,
     "metadata": {},
     "output_type": "execute_result"
    }
   ],
   "source": [
    "A = [3,7,5,5,8,1,9,0,3,7,6,7,9,9,3,4,6,23,536,67,78,87,213]\n",
    "while True:\n",
    "    flag = 0\n",
    "    for i in range(1,len(A)):\n",
    "        if A[i-1] > A[i]:\n",
    "            A[i-1],A[i] = A[i],A[i-1]\n",
    "            flag+=1\n",
    "    if flag == 0:\n",
    "        break\n",
    "A"
   ]
  },
  {
   "cell_type": "markdown",
   "id": "31335bd9",
   "metadata": {},
   "source": [
    "## 퀵정렬"
   ]
  },
  {
   "cell_type": "code",
   "execution_count": null,
   "id": "eeeab76f",
   "metadata": {},
   "outputs": [],
   "source": [
    "A = [3,7,5,5,8,1,9,0]\n"
   ]
  },
  {
   "cell_type": "markdown",
   "id": "f832059d",
   "metadata": {},
   "source": [
    "## 병합정렬"
   ]
  },
  {
   "cell_type": "code",
   "execution_count": null,
   "id": "07ef9ef2",
   "metadata": {},
   "outputs": [],
   "source": []
  },
  {
   "cell_type": "markdown",
   "id": "d40bcb7f",
   "metadata": {},
   "source": [
    "## 문제"
   ]
  },
  {
   "cell_type": "markdown",
   "id": "688f8f42",
   "metadata": {},
   "source": [
    "N명의 학생 정보가 주어져 있음.\n",
    "학생 정보는 학생의 이름과 학생의 성적으로 구분이 된다.\n",
    "학생의 이름과 성적 정보가 주어졌을 때, 학생의 성적이 낮은 순서대로 학생의 이름을 출력하는 프로그램을 작성하세요."
   ]
  },
  {
   "cell_type": "code",
   "execution_count": 289,
   "id": "c7a2523c",
   "metadata": {
    "ExecuteTime": {
     "end_time": "2021-11-30T07:02:47.481197Z",
     "start_time": "2021-11-30T07:02:47.475195Z"
    }
   },
   "outputs": [],
   "source": [
    "student = [('홍길동',20),('고길동',30),('김종국',40),('유재석',30)]"
   ]
  },
  {
   "cell_type": "code",
   "execution_count": 290,
   "id": "6a8831e7",
   "metadata": {
    "ExecuteTime": {
     "end_time": "2021-11-30T07:03:49.083289Z",
     "start_time": "2021-11-30T07:03:49.064287Z"
    }
   },
   "outputs": [
    {
     "data": {
      "text/plain": [
       "'홍길동'"
      ]
     },
     "execution_count": 290,
     "metadata": {},
     "output_type": "execute_result"
    }
   ],
   "source": [
    "sorted(student,key=lambda x : x[1])[0][0]"
   ]
  },
  {
   "cell_type": "markdown",
   "id": "d0ecb08e",
   "metadata": {},
   "source": [
    "[ 입력조건]\n",
    "- 첫 번째 줄에 학생의 수 N이 입력된다( 1≤ N < 100,000)\n",
    "- 두 번째 줄부터 N+1 번째 줄 에는 학생의 이름을 나타내는 문자열 A와 학생의 성적을 나타내는 정수 B가 공백으로 구분되어 입력된다.\n",
    "[출력조건]\n",
    "- 모든 학생의 이름을 성적이 낮은 순서대로 출력한다.\n",
    "- 성적이 동일하면 자유롭게 출력"
   ]
  },
  {
   "cell_type": "code",
   "execution_count": 295,
   "id": "5ef4d580",
   "metadata": {
    "ExecuteTime": {
     "end_time": "2021-11-30T07:14:21.491086Z",
     "start_time": "2021-11-30T07:11:35.609225Z"
    }
   },
   "outputs": [
    {
     "name": "stdout",
     "output_type": "stream",
     "text": [
      "학생의 수를 입력 하시오(1<=N<100,000)2\n",
      "학생이름 성적   입력하세요 ====>  홍길동 95\n",
      "학생이름 성적   입력하세요 ====>  이순시 77\n",
      "이순시 홍길동\n"
     ]
    }
   ],
   "source": [
    "N = int(input('학생의 수를 입력 하시오(1<=N<100,000)'))\n",
    "student_list = []\n",
    "\n",
    "for i in range(N):\n",
    "    temp = input('학생이름 성적   입력하세요 ====>  ')\n",
    "    student_list.append(tuple(temp.split(' ')))\n",
    "    \n",
    "print(' '.join([x[0] for x in sorted(student_list,key=lambda x : x[1])]))"
   ]
  },
  {
   "cell_type": "code",
   "execution_count": 297,
   "id": "35b3babc",
   "metadata": {
    "ExecuteTime": {
     "end_time": "2021-11-30T07:18:21.888566Z",
     "start_time": "2021-11-30T07:18:21.870573Z"
    }
   },
   "outputs": [
    {
     "data": {
      "text/plain": [
       "['77', '55', '33']"
      ]
     },
     "execution_count": 297,
     "metadata": {},
     "output_type": "execute_result"
    }
   ],
   "source": [
    "sorted(['77','55','33'],reverse=True)"
   ]
  },
  {
   "cell_type": "markdown",
   "id": "7d70e021",
   "metadata": {},
   "source": [
    "## 연습문제) 2019 kakao blind recruitment 실패율 문제"
   ]
  },
  {
   "cell_type": "code",
   "execution_count": 371,
   "id": "c6974a68",
   "metadata": {
    "ExecuteTime": {
     "end_time": "2021-11-30T08:26:33.251299Z",
     "start_time": "2021-11-30T08:26:33.244329Z"
    }
   },
   "outputs": [
    {
     "data": {
      "text/plain": [
       "[3, 4, 2, 1, 5]"
      ]
     },
     "execution_count": 371,
     "metadata": {},
     "output_type": "execute_result"
    }
   ],
   "source": [
    "N = 5\n",
    "stages = [2, 1, 2, 6, 2, 4, 3, 3]\n",
    "\n",
    "def solution(N, stages):\n",
    "    answer = []\n",
    "    \n",
    "    participant = {}\n",
    "    pass_or_not = {}\n",
    "    \n",
    "    sorted_stages = sorted(stages,reverse=True)\n",
    "    \n",
    "    for num in range(N,0,-1):\n",
    "        temp = []\n",
    "        for stages in sorted_stages:            \n",
    "            if stages >= num:\n",
    "                temp.append(stages)\n",
    "            elif stages < num:\n",
    "                break\n",
    "        participant[num] = temp\n",
    "                    \n",
    "    \n",
    "    for k,v in participant.items():\n",
    "        pass_or_not[k] = (len([pass_man for pass_man in v if pass_man<=k]),len([pass_man for pass_man in v if pass_man>=k]))\n",
    "        \n",
    "    answer = sorted(pass_or_not.items(),key = lambda x : (x[1][0]/x[1][1],x[1][1],-x[0]) if x[1][1]>0 else (0,0),reverse=True)\n",
    "    \n",
    "    return [x[0] for x in answer]\n",
    "\n",
    "solution(N, stages)"
   ]
  },
  {
   "cell_type": "code",
   "execution_count": 376,
   "id": "2f84af71",
   "metadata": {
    "ExecuteTime": {
     "end_time": "2021-11-30T08:29:52.728448Z",
     "start_time": "2021-11-30T08:29:52.719450Z"
    }
   },
   "outputs": [
    {
     "data": {
      "text/plain": [
       "[4, 1, 2, 3]"
      ]
     },
     "execution_count": 376,
     "metadata": {},
     "output_type": "execute_result"
    }
   ],
   "source": [
    "N = 4\n",
    "stages = [4,4,4,4,4]\n",
    "\n",
    "def solution(N, stages):\n",
    "    \n",
    "    participant = {}\n",
    "    pass_or_not = {}\n",
    "    \n",
    "    for num in range(1,N+1):\n",
    "        temp = []\n",
    "        for stage in stages:            \n",
    "            if stage >= num:\n",
    "                temp.append(stage)\n",
    "                \n",
    "            participant[num] = temp\n",
    "            \n",
    "    for k,v in participant.items():\n",
    "        pass_or_not[k] = (len([pass_man for pass_man in v if pass_man<=k]),len([pass_man for pass_man in v if pass_man>=k]))\n",
    "    \n",
    "    return [x[0] for x in sorted(pass_or_not.items(),key = lambda x : (x[1][0]/x[1][1],x[1][1]) if x[1][1]>0 else (0,0),reverse=True)]\n",
    "\n",
    "solution(N, stages)"
   ]
  }
 ],
 "metadata": {
  "kernelspec": {
   "display_name": "Python 3 (ipykernel)",
   "language": "python",
   "name": "python3"
  },
  "language_info": {
   "codemirror_mode": {
    "name": "ipython",
    "version": 3
   },
   "file_extension": ".py",
   "mimetype": "text/x-python",
   "name": "python",
   "nbconvert_exporter": "python",
   "pygments_lexer": "ipython3",
   "version": "3.9.6"
  },
  "toc": {
   "base_numbering": 1,
   "nav_menu": {},
   "number_sections": true,
   "sideBar": true,
   "skip_h1_title": false,
   "title_cell": "Table of Contents",
   "title_sidebar": "Contents",
   "toc_cell": false,
   "toc_position": {},
   "toc_section_display": true,
   "toc_window_display": false
  }
 },
 "nbformat": 4,
 "nbformat_minor": 5
}
